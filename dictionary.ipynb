{
 "cells": [
  {
   "cell_type": "markdown",
   "metadata": {},
   "source": [
    "dictionary is a built-in data structure used to store collections of key-value pairs. Dictionaries are often referred to as associative arrays or hash maps in other programming languages"
   ]
  },
  {
   "cell_type": "code",
   "execution_count": 4,
   "metadata": {},
   "outputs": [
    {
     "name": "stdout",
     "output_type": "stream",
     "text": [
      "{'name': 'Apri Pandu Wicaksono', 'class': 'IF-11-C', 'nim': 2311102081}\n"
     ]
    }
   ],
   "source": [
    "biodata = {\n",
    "    \"name\": \"Apri Pandu Wicaksono\",\n",
    "    \"class\": \"IF-11-C\",\n",
    "    \"nim\": 2311102081\n",
    "}\n",
    "\n",
    "print(biodata)"
   ]
  },
  {
   "cell_type": "markdown",
   "metadata": {},
   "source": [
    "after we create a dictionary, we want to change it right? follow this step"
   ]
  },
  {
   "cell_type": "code",
   "execution_count": 5,
   "metadata": {},
   "outputs": [
    {
     "name": "stdout",
     "output_type": "stream",
     "text": [
      "{'name': 'Apri Pandu Wicaksono', 'class': 'IF-11-C', 'nim': '2311102081'}\n"
     ]
    }
   ],
   "source": [
    "biodata[\"nim\"] = \"2311102081\"\n",
    "\n",
    "print(biodata)"
   ]
  },
  {
   "cell_type": "markdown",
   "metadata": {},
   "source": [
    "how about delete data? calm down and follow me"
   ]
  },
  {
   "cell_type": "code",
   "execution_count": 6,
   "metadata": {},
   "outputs": [
    {
     "name": "stdout",
     "output_type": "stream",
     "text": [
      "{'name': 'Apri Pandu Wicaksono', 'class': 'IF-11-C'}\n"
     ]
    }
   ],
   "source": [
    "del biodata[\"nim\"]\n",
    "\n",
    "print(biodata)"
   ]
  }
 ],
 "metadata": {
  "kernelspec": {
   "display_name": "Python 3",
   "language": "python",
   "name": "python3"
  },
  "language_info": {
   "codemirror_mode": {
    "name": "ipython",
    "version": 3
   },
   "file_extension": ".py",
   "mimetype": "text/x-python",
   "name": "python",
   "nbconvert_exporter": "python",
   "pygments_lexer": "ipython3",
   "version": "3.11.5"
  }
 },
 "nbformat": 4,
 "nbformat_minor": 2
}
