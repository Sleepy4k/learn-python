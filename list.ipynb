{
 "cells": [
  {
   "cell_type": "markdown",
   "metadata": {},
   "source": [
    "List is a built-in data structure that is used to store a collection of items or elements. Lists are versatile and widely used in Python programming for holding and managing ordered sequences of data"
   ]
  },
  {
   "cell_type": "code",
   "execution_count": 1,
   "metadata": {},
   "outputs": [
    {
     "name": "stdout",
     "output_type": "stream",
     "text": [
      "['read manga', 'netflix', 'sleep']\n"
     ]
    }
   ],
   "source": [
    "todo = [\"read manga\", \"netflix\", \"sleep\"]\n",
    "\n",
    "print(todo)"
   ]
  },
  {
   "cell_type": "markdown",
   "metadata": {},
   "source": [
    "In list you can get one of data using data index which start from zero (0)"
   ]
  },
  {
   "cell_type": "code",
   "execution_count": 2,
   "metadata": {},
   "outputs": [
    {
     "name": "stdout",
     "output_type": "stream",
     "text": [
      "netflix\n"
     ]
    }
   ],
   "source": [
    "print(todo[1])"
   ]
  },
  {
   "cell_type": "markdown",
   "metadata": {},
   "source": [
    "How to input data? you can use one of this method"
   ]
  },
  {
   "cell_type": "code",
   "execution_count": 3,
   "metadata": {},
   "outputs": [
    {
     "name": "stdout",
     "output_type": "stream",
     "text": [
      "['code', 'read manga', 'netflix', 'sleep', 'eat']\n"
     ]
    }
   ],
   "source": [
    "todo.append(\"eat\") # add to the end of the list\n",
    "todo.insert(0, \"code\") # add to the beginning of the list\n",
    "\n",
    "print(todo)"
   ]
  },
  {
   "cell_type": "markdown",
   "metadata": {},
   "source": [
    "Then how to delete some data? haha same as input data there is 2 method to remove data"
   ]
  },
  {
   "cell_type": "code",
   "execution_count": 4,
   "metadata": {},
   "outputs": [
    {
     "name": "stdout",
     "output_type": "stream",
     "text": [
      "['code', 'sleep', 'eat']\n"
     ]
    }
   ],
   "source": [
    "todo.remove(\"netflix\") # remove an item from the list\n",
    "todo.pop(1) # remove an item from the list\n",
    "\n",
    "print(todo)"
   ]
  }
 ],
 "metadata": {
  "kernelspec": {
   "display_name": "Python 3",
   "language": "python",
   "name": "python3"
  },
  "language_info": {
   "codemirror_mode": {
    "name": "ipython",
    "version": 3
   },
   "file_extension": ".py",
   "mimetype": "text/x-python",
   "name": "python",
   "nbconvert_exporter": "python",
   "pygments_lexer": "ipython3",
   "version": "3.11.5"
  }
 },
 "nbformat": 4,
 "nbformat_minor": 2
}
